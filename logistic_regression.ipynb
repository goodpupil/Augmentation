{
 "cells": [
  {
   "cell_type": "code",
   "execution_count": 1,
   "metadata": {
    "collapsed": true
   },
   "outputs": [],
   "source": [
    "import numpy as np\n",
    "import matplotlib.pyplot as plt\n",
    "from scipy import ndimage\n",
    "\n",
    "from sklearn.datasets import fetch_mldata\n",
    "from sklearn.linear_model import LogisticRegression\n",
    "from sklearn.model_selection import train_test_split\n",
    "from sklearn.preprocessing import StandardScaler\n",
    "from sklearn.kernel_approximation import RBFSampler\n",
    "from sklearn.utils import shuffle\n",
    "\n",
    "mnist = fetch_mldata('MNIST original')\n",
    "X = mnist.data.astype('float64')\n",
    "y = mnist.target.astype('int')\n",
    "\n",
    "# Binary classification, 4 vs 9\n",
    "X = X[np.logical_or(y == 4, y == 9)]\n",
    "y = y[np.logical_or(y == 4, y == 9)]"
   ]
  },
  {
   "cell_type": "code",
   "execution_count": 2,
   "metadata": {},
   "outputs": [
    {
     "name": "stdout",
     "output_type": "stream",
     "text": [
      "Linear logistic regression acc.: 0.9508\n",
      "Kernel logistic regression acc.: 0.858\n"
     ]
    }
   ],
   "source": [
    "\n",
    "train_samples = 1000\n",
    "test_samples = 5000\n",
    "X_train, X_test, y_train, y_test = train_test_split(\n",
    "    X, y, train_size=train_samples, test_size=test_samples, random_state=0)\n",
    "# Scale data to have mean zero and variance 1\n",
    "scaler = StandardScaler()\n",
    "X_train = scaler.fit_transform(X_train)\n",
    "X_test = scaler.transform(X_test)\n",
    "\n",
    "# Linear logistic regression\n",
    "# C controls regularization, which should be scaled by number of data points\n",
    "lr = LogisticRegression(C=50 / train_samples)\n",
    "lr.fit(X_train, y_train)\n",
    "print('Linear logistic regression acc.: {}'.format(lr.score(X_test, y_test)))\n",
    "\n",
    "# Kernel logistic regression with RFF feature map\n",
    "num_features = 1000\n",
    "rff_map = RBFSampler(gamma=0.001, random_state=0, n_components=num_features)\n",
    "X_train_transformed = rff_map.fit_transform(X_train)\n",
    "X_test_transformed = rff_map.transform(X_test)\n",
    "lr = LogisticRegression(C=50 / train_samples)\n",
    "lr.fit(X_train_transformed, y_train)\n",
    "print('Kernel logistic regression acc.: {}'.format(\n",
    "    lr.score(X_test_transformed, y_test)))\n",
    "w_kernel_lr = lr.coef_"
   ]
  },
  {
   "cell_type": "code",
   "execution_count": 3,
   "metadata": {},
   "outputs": [
    {
     "name": "stdout",
     "output_type": "stream",
     "text": [
      "Linear logistic regression (with data augmentation) acc.: 0.958\n",
      "Kernel logistic regression (with data augmentation) acc.: 0.8502\n",
      "Kernel logistic regression (with feature augmentation) acc.: 0.8474\n",
      "Relative error between w_data_augmentation and w_feature_augmentation: 0.023853683604172258\n",
      "Relative error between w_data_augmentation and w_feature_augmentation: 0.2351972829293326\n"
     ]
    }
   ],
   "source": [
    "# Explicit data augmentation (rotation between -15 and 15 degrees)\n",
    "angles = range(-15, 16, 2)\n",
    "background_value = np.median(X_train)\n",
    "rotate = lambda X, angle: ndimage.rotate(X.reshape((-1, 28, 28)),\n",
    "    angle,\n",
    "    axes=(2, 1),\n",
    "    reshape=False,\n",
    "    cval=background_value).reshape((-1, 28 * 28))\n",
    "X_train_rotated = np.vstack(rotate(X_train, angle) for angle in angles)\n",
    "y_train_rotated = np.tile(y_train, len(angles))\n",
    "\n",
    "# Linear logistic regression + data augmentation\n",
    "lr = LogisticRegression(C=50 / train_samples / len(angles))\n",
    "lr.fit(X_train_rotated, y_train_rotated)\n",
    "print('Linear logistic regression (with data augmentation) acc.: {}'.format(\n",
    "    lr.score(X_test, y_test)))\n",
    "\n",
    "# Kernel logistic regression with RFF feature map + data augmentation\n",
    "X_train_rotated_transformed = rff_map.transform(X_train_rotated)\n",
    "lr = LogisticRegression(C=50 / train_samples / len(angles))\n",
    "lr.fit(X_train_rotated_transformed, y_train_rotated)\n",
    "print('Kernel logistic regression (with data augmentation) acc.: {}'.format(\n",
    "    lr.score(X_test_transformed, y_test)))\n",
    "w_data_augmentation = lr.coef_.squeeze()\n",
    "\n",
    "# Augmentation in the feature space by averaging\n",
    "X_train_augmented = np.mean(\n",
    "    X_train_rotated_transformed.reshape((len(angles), train_samples, -1)),\n",
    "    axis=0)\n",
    "lr = LogisticRegression(C=50 / train_samples)\n",
    "lr.fit(X_train_augmented, y_train)\n",
    "print('Kernel logistic regression (with feature augmentation) acc.: {}'.format(\n",
    "    lr.score(X_test_transformed, y_test)))\n",
    "w_feature_augmentation = lr.coef_.squeeze()\n",
    "\n",
    "print(\n",
    "    'Relative error between w_data_augmentation and w_feature_augmentation: {}'.\n",
    "    format(\n",
    "        np.linalg.norm(w_data_augmentation - w_feature_augmentation) /\n",
    "        np.linalg.norm(w_data_augmentation)))\n",
    "print(\n",
    "    'Relative error between w_data_augmentation and w_feature_augmentation: {}'.\n",
    "    format(\n",
    "        np.linalg.norm(w_data_augmentation - w_kernel_lr) /\n",
    "        np.linalg.norm(w_data_augmentation)))"
   ]
  },
  {
   "cell_type": "code",
   "execution_count": null,
   "metadata": {
    "collapsed": true
   },
   "outputs": [],
   "source": []
  }
 ],
 "metadata": {
  "kernelspec": {
   "display_name": "Python 3",
   "language": "python",
   "name": "python3"
  },
  "language_info": {
   "codemirror_mode": {
    "name": "ipython",
    "version": 3
   },
   "file_extension": ".py",
   "mimetype": "text/x-python",
   "name": "python",
   "nbconvert_exporter": "python",
   "pygments_lexer": "ipython3",
   "version": "3.6.1"
  }
 },
 "nbformat": 4,
 "nbformat_minor": 2
}
